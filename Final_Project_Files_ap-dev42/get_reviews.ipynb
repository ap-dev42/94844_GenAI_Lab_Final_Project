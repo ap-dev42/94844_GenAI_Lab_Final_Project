{
 "cells": [
  {
   "cell_type": "code",
   "execution_count": 1,
   "metadata": {},
   "outputs": [],
   "source": [
    "# import necessary libraries\n",
    "from selenium import webdriver\n",
    "from selenium.webdriver.common.by import By\n",
    "from selenium.webdriver.common.keys import Keys\n",
    "import time\n",
    "import pandas as pd"
   ]
  },
  {
   "cell_type": "code",
   "execution_count": 2,
   "metadata": {},
   "outputs": [],
   "source": [
    "# import for headless browsing\n",
    "from selenium.webdriver.chrome.options import Options\n",
    "\n",
    "chrome_options = Options()\n",
    "chrome_options.add_argument(\"--headless\")\n",
    "\n"
   ]
  },
  {
   "cell_type": "code",
   "execution_count": 3,
   "metadata": {},
   "outputs": [],
   "source": [
    "def scrape(url):\n",
    "    '''Function to scrape the reviews from the website'''\n",
    "    # Open the browser\n",
    "    driver = webdriver.Chrome(options=chrome_options)\n",
    "    # Open the URL\n",
    "    driver.get(url)\n",
    "    # Wait for the page to load\n",
    "    time.sleep(10)\n",
    "    # Close the pop-up if it appears\n",
    "    try:\n",
    "        # Wait for the pop-up to appear and the exit button to be clickable\n",
    "        #wait = WebDriverWait(driver, 10)\n",
    "        # find the exit button\n",
    "        exit_button_xpath = '//*[@id=\"ltkpopup-content\"]/div[3]/button'\n",
    "        exit_button = driver.find_element(By.XPATH, exit_button_xpath)\n",
    "\n",
    "        # Click the exit button\n",
    "        exit_button.click()\n",
    "        print(\"Pop-up closed.\")\n",
    "        # Wait for the pop-up to close\n",
    "    except TimeoutException:\n",
    "        # Handle cases where the pop-up does not appear within the timeout\n",
    "        print(\"No pop-up appeared within the timeout period.\")\n",
    "    # html object for the entire page\n",
    "    html = driver.find_element(By.TAG_NAME, 'html')\n",
    "    # Scroll to the bottom of the page\n",
    "    for _ in range(10):  # Adjust the range depending on how much you need to scroll\n",
    "        # Scroll down to the bottom of the page\n",
    "        html.send_keys(Keys.END)\n",
    "    # find the review date\n",
    "    date_element = driver.find_elements(By.XPATH, \"//div[2]/div/div/div/div[@class='time-stamp']\")\n",
    "    # Extract the text from the date element\n",
    "    dates = [date.text for date in date_element]\n",
    "    # find the review title\n",
    "    title_element = driver.find_elements(By.XPATH, \"//div[2]/div/div/div/h3\")\n",
    "    # Extract the text from the title element\n",
    "    titles = [title.text for title in title_element]\n",
    "    # find the review text\n",
    "    reviews_element = driver.find_elements(By.XPATH, \"//div[2]/div/div/div[@class='ls-wrapper col-10-10 last margin-top']/p\")\n",
    "    # Extract the text from the review element\n",
    "    reviews = [review.text for review in reviews_element]\n",
    "    # Close the browser\n",
    "    driver.quit()\n",
    "    # Return the dates, titles, and reviews\n",
    "    return dates, titles, reviews"
   ]
  },
  {
   "cell_type": "code",
   "execution_count": 15,
   "metadata": {},
   "outputs": [
    {
     "name": "stdout",
     "output_type": "stream",
     "text": [
      "Pop-up closed.\n",
      "Pop-up closed.\n",
      "Pop-up closed.\n",
      "Pop-up closed.\n",
      "Pop-up closed.\n",
      "Pop-up closed.\n",
      "Pop-up closed.\n",
      "Pop-up closed.\n",
      "Pop-up closed.\n",
      "Pop-up closed.\n",
      "Pop-up closed.\n",
      "Pop-up closed.\n",
      "Pop-up closed.\n",
      "Pop-up closed.\n",
      "Pop-up closed.\n",
      "Pop-up closed.\n",
      "Pop-up closed.\n",
      "Pop-up closed.\n",
      "Pop-up closed.\n",
      "Pop-up closed.\n",
      "Pop-up closed.\n",
      "Pop-up closed.\n",
      "Pop-up closed.\n"
     ]
    }
   ],
   "source": [
    "# URL of the website to scrape\n",
    "url = \"https://www.lovelyskin.com/o/reviews/la-roche-posay-toleriane-double-repair-moisturizer\"\n",
    "\n",
    "# initialize lists to store the reviews, titles, and dates\n",
    "all_reviews = []\n",
    "all_titles = []\n",
    "all_dates = []\n",
    "\n",
    "# Scrape the first page\n",
    "dates, titles, reviews = scrape(url)\n",
    "all_reviews.append(reviews)\n",
    "all_titles.append(titles)\n",
    "all_dates.append(dates)\n",
    "\n",
    "# Scrape the remaining pages\n",
    "add_url = \"?page=\"\n",
    "\n",
    "# Loop through the remaining pages\n",
    "for x in range(2, 24):\n",
    "    # Construct the URL for the page\n",
    "    url = f\"https://www.lovelyskin.com/o/reviews/la-roche-posay-toleriane-double-repair-moisturizer{add_url}{x}\"\n",
    "    # Scrape the page\n",
    "    dates, titles, reviews = scrape(url)\n",
    "    all_reviews.append(reviews)\n",
    "    all_titles.append(titles)\n",
    "    all_dates.append(dates)"
   ]
  },
  {
   "cell_type": "code",
   "execution_count": 16,
   "metadata": {},
   "outputs": [],
   "source": [
    "# https://stackoverflow.com/questions/952914/how-do-i-make-a-flat-list-out-of-a-list-of-lists\n",
    "# Flatten the lists\n",
    "all_reviews = [item for sublist in all_reviews for item in sublist]\n",
    "all_titles = [item for sublist in all_titles for item in sublist]\n",
    "all_dates = [item for sublist in all_dates for item in sublist]"
   ]
  },
  {
   "cell_type": "code",
   "execution_count": 17,
   "metadata": {},
   "outputs": [
    {
     "name": "stdout",
     "output_type": "stream",
     "text": [
      "448\n"
     ]
    },
    {
     "data": {
      "text/html": [
       "<div>\n",
       "<style scoped>\n",
       "    .dataframe tbody tr th:only-of-type {\n",
       "        vertical-align: middle;\n",
       "    }\n",
       "\n",
       "    .dataframe tbody tr th {\n",
       "        vertical-align: top;\n",
       "    }\n",
       "\n",
       "    .dataframe thead th {\n",
       "        text-align: right;\n",
       "    }\n",
       "</style>\n",
       "<table border=\"1\" class=\"dataframe\">\n",
       "  <thead>\n",
       "    <tr style=\"text-align: right;\">\n",
       "      <th></th>\n",
       "      <th>Date</th>\n",
       "      <th>Title</th>\n",
       "      <th>Review</th>\n",
       "    </tr>\n",
       "  </thead>\n",
       "  <tbody>\n",
       "    <tr>\n",
       "      <th>0</th>\n",
       "      <td>April 13, 2024</td>\n",
       "      <td>Mi crema favorita</td>\n",
       "      <td>It's the best cream I've had in years!</td>\n",
       "    </tr>\n",
       "    <tr>\n",
       "      <th>1</th>\n",
       "      <td>April 11, 2024</td>\n",
       "      <td>My Go To!</td>\n",
       "      <td>This is my go to daily morning moisturizer! It...</td>\n",
       "    </tr>\n",
       "    <tr>\n",
       "      <th>2</th>\n",
       "      <td>April 10, 2024</td>\n",
       "      <td>Great</td>\n",
       "      <td>My daughter uses the cream day and night and s...</td>\n",
       "    </tr>\n",
       "    <tr>\n",
       "      <th>3</th>\n",
       "      <td>April 06, 2024</td>\n",
       "      <td>very hydrating</td>\n",
       "      <td>I use this mixed with a small amount of rosehi...</td>\n",
       "    </tr>\n",
       "    <tr>\n",
       "      <th>4</th>\n",
       "      <td>April 06, 2024</td>\n",
       "      <td>Irritation</td>\n",
       "      <td>I started using this moisturizer and another s...</td>\n",
       "    </tr>\n",
       "  </tbody>\n",
       "</table>\n",
       "</div>"
      ],
      "text/plain": [
       "             Date              Title  \\\n",
       "0  April 13, 2024  Mi crema favorita   \n",
       "1  April 11, 2024          My Go To!   \n",
       "2  April 10, 2024              Great   \n",
       "3  April 06, 2024     very hydrating   \n",
       "4  April 06, 2024         Irritation   \n",
       "\n",
       "                                              Review  \n",
       "0             It's the best cream I've had in years!  \n",
       "1  This is my go to daily morning moisturizer! It...  \n",
       "2  My daughter uses the cream day and night and s...  \n",
       "3  I use this mixed with a small amount of rosehi...  \n",
       "4  I started using this moisturizer and another s...  "
      ]
     },
     "execution_count": 17,
     "metadata": {},
     "output_type": "execute_result"
    }
   ],
   "source": [
    "# Create a DataFrame for the reviews\n",
    "df = pd.DataFrame(list(zip(all_dates, all_titles, all_reviews)), columns =['Date', 'Title', 'Review'])\n",
    "print(len(df))\n",
    "df.head()\n"
   ]
  },
  {
   "cell_type": "code",
   "execution_count": 18,
   "metadata": {},
   "outputs": [],
   "source": [
    "# Save the DataFrame to a CSV file\n",
    "df.to_csv('reviews.csv', index=False)"
   ]
  },
  {
   "cell_type": "code",
   "execution_count": null,
   "metadata": {},
   "outputs": [],
   "source": []
  }
 ],
 "metadata": {
  "kernelspec": {
   "display_name": "base",
   "language": "python",
   "name": "python3"
  },
  "language_info": {
   "codemirror_mode": {
    "name": "ipython",
    "version": 3
   },
   "file_extension": ".py",
   "mimetype": "text/x-python",
   "name": "python",
   "nbconvert_exporter": "python",
   "pygments_lexer": "ipython3",
   "version": "3.11.8"
  }
 },
 "nbformat": 4,
 "nbformat_minor": 2
}
